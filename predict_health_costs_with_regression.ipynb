{
  "nbformat": 4,
  "nbformat_minor": 0,
  "metadata": {
    "colab": {
      "name": "Copy of fcc_predict_health_costs_with_regression.ipynb",
      "provenance": [],
      "collapsed_sections": [],
      "toc_visible": true
    },
    "kernelspec": {
      "display_name": "Python 3",
      "name": "python3"
    }
  },
  "cells": [
    {
      "cell_type": "markdown",
      "metadata": {
        "id": "M9TX15KOkPBV"
      },
      "source": [
        "*Note: You are currently reading this using Google Colaboratory which is a cloud-hosted version of Jupyter Notebook. This is a document containing both text cells for documentation and runnable code cells. If you are unfamiliar with Jupyter Notebook, watch this 3-minute introduction before starting this challenge: https://www.youtube.com/watch?v=inN8seMm7UI*\n",
        "\n",
        "---\n",
        "\n",
        "In this challenge, you will predict healthcare costs using a regression algorithm.\n",
        "\n",
        "You are given a dataset that contains information about different people including their healthcare costs. Use the data to predict healthcare costs based on new data.\n",
        "\n",
        "The first two cells of this notebook import libraries and the data.\n",
        "\n",
        "Make sure to convert categorical data to numbers. Use 80% of the data as the `train_dataset` and 20% of the data as the `test_dataset`.\n",
        "\n",
        "`pop` off the \"expenses\" column from these datasets to create new datasets called `train_labels` and `test_labels`. Use these labels when training your model.\n",
        "\n",
        "Create a model and train it with the `train_dataset`. Run the final cell in this notebook to check your model. The final cell will use the unseen `test_dataset` to check how well the model generalizes.\n",
        "\n",
        "To pass the challenge, `model.evaluate` must return a Mean Absolute Error of under 3500. This means it predicts health care costs correctly within $3500.\n",
        "\n",
        "The final cell will also predict expenses using the `test_dataset` and graph the results."
      ]
    },
    {
      "cell_type": "code",
      "metadata": {
        "id": "1rRo8oNqZ-Rj",
        "colab": {
          "base_uri": "https://localhost:8080/"
        },
        "outputId": "89fcd535-08d0-43a5-8d73-ff627681ba89"
      },
      "source": [
        "# Import libraries. You may or may not use all of these.\n",
        "!pip install -q git+https://github.com/tensorflow/docs\n",
        "import matplotlib.pyplot as plt\n",
        "import numpy as np\n",
        "import pandas as pd\n",
        "\n",
        "try:\n",
        "  # %tensorflow_version only exists in Colab.\n",
        "  %tensorflow_version 2.x\n",
        "except Exception:\n",
        "  pass\n",
        "import tensorflow as tf\n",
        "\n",
        "from tensorflow import keras\n",
        "from tensorflow.keras import layers\n",
        "\n",
        "import tensorflow_docs as tfdocs\n",
        "import tensorflow_docs.plots\n",
        "import tensorflow_docs.modeling\n",
        "\n",
        "from sklearn.model_selection import train_test_split\n",
        "from sklearn.preprocessing import MinMaxScaler"
      ],
      "execution_count": null,
      "outputs": [
        {
          "output_type": "stream",
          "text": [
            "\u001b[?25l\r\u001b[K     |▎                               | 10kB 13.0MB/s eta 0:00:01\r\u001b[K     |▋                               | 20kB 19.0MB/s eta 0:00:01\r\u001b[K     |█                               | 30kB 10.1MB/s eta 0:00:01\r\u001b[K     |█▎                              | 40kB 9.8MB/s eta 0:00:01\r\u001b[K     |█▋                              | 51kB 5.6MB/s eta 0:00:01\r\u001b[K     |██                              | 61kB 6.1MB/s eta 0:00:01\r\u001b[K     |██▎                             | 71kB 6.3MB/s eta 0:00:01\r\u001b[K     |██▋                             | 81kB 6.4MB/s eta 0:00:01\r\u001b[K     |██▉                             | 92kB 6.2MB/s eta 0:00:01\r\u001b[K     |███▏                            | 102kB 6.7MB/s eta 0:00:01\r\u001b[K     |███▌                            | 112kB 6.7MB/s eta 0:00:01\r\u001b[K     |███▉                            | 122kB 6.7MB/s eta 0:00:01\r\u001b[K     |████▏                           | 133kB 6.7MB/s eta 0:00:01\r\u001b[K     |████▌                           | 143kB 6.7MB/s eta 0:00:01\r\u001b[K     |████▉                           | 153kB 6.7MB/s eta 0:00:01\r\u001b[K     |█████▏                          | 163kB 6.7MB/s eta 0:00:01\r\u001b[K     |█████▍                          | 174kB 6.7MB/s eta 0:00:01\r\u001b[K     |█████▊                          | 184kB 6.7MB/s eta 0:00:01\r\u001b[K     |██████                          | 194kB 6.7MB/s eta 0:00:01\r\u001b[K     |██████▍                         | 204kB 6.7MB/s eta 0:00:01\r\u001b[K     |██████▊                         | 215kB 6.7MB/s eta 0:00:01\r\u001b[K     |███████                         | 225kB 6.7MB/s eta 0:00:01\r\u001b[K     |███████▍                        | 235kB 6.7MB/s eta 0:00:01\r\u001b[K     |███████▊                        | 245kB 6.7MB/s eta 0:00:01\r\u001b[K     |████████                        | 256kB 6.7MB/s eta 0:00:01\r\u001b[K     |████████▎                       | 266kB 6.7MB/s eta 0:00:01\r\u001b[K     |████████▋                       | 276kB 6.7MB/s eta 0:00:01\r\u001b[K     |█████████                       | 286kB 6.7MB/s eta 0:00:01\r\u001b[K     |█████████▎                      | 296kB 6.7MB/s eta 0:00:01\r\u001b[K     |█████████▋                      | 307kB 6.7MB/s eta 0:00:01\r\u001b[K     |██████████                      | 317kB 6.7MB/s eta 0:00:01\r\u001b[K     |██████████▎                     | 327kB 6.7MB/s eta 0:00:01\r\u001b[K     |██████████▋                     | 337kB 6.7MB/s eta 0:00:01\r\u001b[K     |██████████▉                     | 348kB 6.7MB/s eta 0:00:01\r\u001b[K     |███████████▏                    | 358kB 6.7MB/s eta 0:00:01\r\u001b[K     |███████████▌                    | 368kB 6.7MB/s eta 0:00:01\r\u001b[K     |███████████▉                    | 378kB 6.7MB/s eta 0:00:01\r\u001b[K     |████████████▏                   | 389kB 6.7MB/s eta 0:00:01\r\u001b[K     |████████████▌                   | 399kB 6.7MB/s eta 0:00:01\r\u001b[K     |████████████▉                   | 409kB 6.7MB/s eta 0:00:01\r\u001b[K     |█████████████▏                  | 419kB 6.7MB/s eta 0:00:01\r\u001b[K     |█████████████▌                  | 430kB 6.7MB/s eta 0:00:01\r\u001b[K     |█████████████▊                  | 440kB 6.7MB/s eta 0:00:01\r\u001b[K     |██████████████                  | 450kB 6.7MB/s eta 0:00:01\r\u001b[K     |██████████████▍                 | 460kB 6.7MB/s eta 0:00:01\r\u001b[K     |██████████████▊                 | 471kB 6.7MB/s eta 0:00:01\r\u001b[K     |███████████████                 | 481kB 6.7MB/s eta 0:00:01\r\u001b[K     |███████████████▍                | 491kB 6.7MB/s eta 0:00:01\r\u001b[K     |███████████████▊                | 501kB 6.7MB/s eta 0:00:01\r\u001b[K     |████████████████                | 512kB 6.7MB/s eta 0:00:01\r\u001b[K     |████████████████▎               | 522kB 6.7MB/s eta 0:00:01\r\u001b[K     |████████████████▋               | 532kB 6.7MB/s eta 0:00:01\r\u001b[K     |█████████████████               | 542kB 6.7MB/s eta 0:00:01\r\u001b[K     |█████████████████▎              | 552kB 6.7MB/s eta 0:00:01\r\u001b[K     |█████████████████▋              | 563kB 6.7MB/s eta 0:00:01\r\u001b[K     |██████████████████              | 573kB 6.7MB/s eta 0:00:01\r\u001b[K     |██████████████████▎             | 583kB 6.7MB/s eta 0:00:01\r\u001b[K     |██████████████████▋             | 593kB 6.7MB/s eta 0:00:01\r\u001b[K     |███████████████████             | 604kB 6.7MB/s eta 0:00:01\r\u001b[K     |███████████████████▏            | 614kB 6.7MB/s eta 0:00:01\r\u001b[K     |███████████████████▌            | 624kB 6.7MB/s eta 0:00:01\r\u001b[K     |███████████████████▉            | 634kB 6.7MB/s eta 0:00:01\r\u001b[K     |████████████████████▏           | 645kB 6.7MB/s eta 0:00:01\r\u001b[K     |████████████████████▌           | 655kB 6.7MB/s eta 0:00:01\r\u001b[K     |████████████████████▉           | 665kB 6.7MB/s eta 0:00:01\r\u001b[K     |█████████████████████▏          | 675kB 6.7MB/s eta 0:00:01\r\u001b[K     |█████████████████████▌          | 686kB 6.7MB/s eta 0:00:01\r\u001b[K     |█████████████████████▊          | 696kB 6.7MB/s eta 0:00:01\r\u001b[K     |██████████████████████          | 706kB 6.7MB/s eta 0:00:01\r\u001b[K     |██████████████████████▍         | 716kB 6.7MB/s eta 0:00:01\r\u001b[K     |██████████████████████▊         | 727kB 6.7MB/s eta 0:00:01\r\u001b[K     |███████████████████████         | 737kB 6.7MB/s eta 0:00:01\r\u001b[K     |███████████████████████▍        | 747kB 6.7MB/s eta 0:00:01\r\u001b[K     |███████████████████████▊        | 757kB 6.7MB/s eta 0:00:01\r\u001b[K     |████████████████████████        | 768kB 6.7MB/s eta 0:00:01\r\u001b[K     |████████████████████████▍       | 778kB 6.7MB/s eta 0:00:01\r\u001b[K     |████████████████████████▋       | 788kB 6.7MB/s eta 0:00:01\r\u001b[K     |█████████████████████████       | 798kB 6.7MB/s eta 0:00:01\r\u001b[K     |█████████████████████████▎      | 808kB 6.7MB/s eta 0:00:01\r\u001b[K     |█████████████████████████▋      | 819kB 6.7MB/s eta 0:00:01\r\u001b[K     |██████████████████████████      | 829kB 6.7MB/s eta 0:00:01\r\u001b[K     |██████████████████████████▎     | 839kB 6.7MB/s eta 0:00:01\r\u001b[K     |██████████████████████████▋     | 849kB 6.7MB/s eta 0:00:01\r\u001b[K     |███████████████████████████     | 860kB 6.7MB/s eta 0:00:01\r\u001b[K     |███████████████████████████▏    | 870kB 6.7MB/s eta 0:00:01\r\u001b[K     |███████████████████████████▌    | 880kB 6.7MB/s eta 0:00:01\r\u001b[K     |███████████████████████████▉    | 890kB 6.7MB/s eta 0:00:01\r\u001b[K     |████████████████████████████▏   | 901kB 6.7MB/s eta 0:00:01\r\u001b[K     |████████████████████████████▌   | 911kB 6.7MB/s eta 0:00:01\r\u001b[K     |████████████████████████████▉   | 921kB 6.7MB/s eta 0:00:01\r\u001b[K     |█████████████████████████████▏  | 931kB 6.7MB/s eta 0:00:01\r\u001b[K     |█████████████████████████████▌  | 942kB 6.7MB/s eta 0:00:01\r\u001b[K     |█████████████████████████████▉  | 952kB 6.7MB/s eta 0:00:01\r\u001b[K     |██████████████████████████████  | 962kB 6.7MB/s eta 0:00:01\r\u001b[K     |██████████████████████████████▍ | 972kB 6.7MB/s eta 0:00:01\r\u001b[K     |██████████████████████████████▊ | 983kB 6.7MB/s eta 0:00:01\r\u001b[K     |███████████████████████████████ | 993kB 6.7MB/s eta 0:00:01\r\u001b[K     |███████████████████████████████▍| 1.0MB 6.7MB/s eta 0:00:01\r\u001b[K     |███████████████████████████████▊| 1.0MB 6.7MB/s eta 0:00:01\r\u001b[K     |████████████████████████████████| 1.0MB 6.7MB/s \n",
            "\u001b[?25h  Building wheel for tensorflow-docs (setup.py) ... \u001b[?25l\u001b[?25hdone\n"
          ],
          "name": "stdout"
        }
      ]
    },
    {
      "cell_type": "code",
      "metadata": {
        "id": "CiX2FI4gZtTt",
        "colab": {
          "base_uri": "https://localhost:8080/",
          "height": 380
        },
        "outputId": "3edc5992-bc34-4e55-9fbe-a9befff77d74"
      },
      "source": [
        "# Import data\n",
        "!wget https://cdn.freecodecamp.org/project-data/health-costs/insurance.csv\n",
        "dataset = pd.read_csv('insurance.csv')\n",
        "dataset.tail()"
      ],
      "execution_count": null,
      "outputs": [
        {
          "output_type": "stream",
          "text": [
            "--2021-03-07 17:38:40--  https://cdn.freecodecamp.org/project-data/health-costs/insurance.csv\n",
            "Resolving cdn.freecodecamp.org (cdn.freecodecamp.org)... 172.67.70.149, 104.26.3.33, 104.26.2.33, ...\n",
            "Connecting to cdn.freecodecamp.org (cdn.freecodecamp.org)|172.67.70.149|:443... connected.\n",
            "HTTP request sent, awaiting response... 200 OK\n",
            "Length: unspecified [text/csv]\n",
            "Saving to: ‘insurance.csv’\n",
            "\n",
            "\rinsurance.csv           [<=>                 ]       0  --.-KB/s               \rinsurance.csv           [ <=>                ]  49.09K  --.-KB/s    in 0.01s   \n",
            "\n",
            "2021-03-07 17:38:41 (4.27 MB/s) - ‘insurance.csv’ saved [50264]\n",
            "\n"
          ],
          "name": "stdout"
        },
        {
          "output_type": "execute_result",
          "data": {
            "text/html": [
              "<div>\n",
              "<style scoped>\n",
              "    .dataframe tbody tr th:only-of-type {\n",
              "        vertical-align: middle;\n",
              "    }\n",
              "\n",
              "    .dataframe tbody tr th {\n",
              "        vertical-align: top;\n",
              "    }\n",
              "\n",
              "    .dataframe thead th {\n",
              "        text-align: right;\n",
              "    }\n",
              "</style>\n",
              "<table border=\"1\" class=\"dataframe\">\n",
              "  <thead>\n",
              "    <tr style=\"text-align: right;\">\n",
              "      <th></th>\n",
              "      <th>age</th>\n",
              "      <th>sex</th>\n",
              "      <th>bmi</th>\n",
              "      <th>children</th>\n",
              "      <th>smoker</th>\n",
              "      <th>region</th>\n",
              "      <th>expenses</th>\n",
              "    </tr>\n",
              "  </thead>\n",
              "  <tbody>\n",
              "    <tr>\n",
              "      <th>1333</th>\n",
              "      <td>50</td>\n",
              "      <td>male</td>\n",
              "      <td>31.0</td>\n",
              "      <td>3</td>\n",
              "      <td>no</td>\n",
              "      <td>northwest</td>\n",
              "      <td>10600.55</td>\n",
              "    </tr>\n",
              "    <tr>\n",
              "      <th>1334</th>\n",
              "      <td>18</td>\n",
              "      <td>female</td>\n",
              "      <td>31.9</td>\n",
              "      <td>0</td>\n",
              "      <td>no</td>\n",
              "      <td>northeast</td>\n",
              "      <td>2205.98</td>\n",
              "    </tr>\n",
              "    <tr>\n",
              "      <th>1335</th>\n",
              "      <td>18</td>\n",
              "      <td>female</td>\n",
              "      <td>36.9</td>\n",
              "      <td>0</td>\n",
              "      <td>no</td>\n",
              "      <td>southeast</td>\n",
              "      <td>1629.83</td>\n",
              "    </tr>\n",
              "    <tr>\n",
              "      <th>1336</th>\n",
              "      <td>21</td>\n",
              "      <td>female</td>\n",
              "      <td>25.8</td>\n",
              "      <td>0</td>\n",
              "      <td>no</td>\n",
              "      <td>southwest</td>\n",
              "      <td>2007.95</td>\n",
              "    </tr>\n",
              "    <tr>\n",
              "      <th>1337</th>\n",
              "      <td>61</td>\n",
              "      <td>female</td>\n",
              "      <td>29.1</td>\n",
              "      <td>0</td>\n",
              "      <td>yes</td>\n",
              "      <td>northwest</td>\n",
              "      <td>29141.36</td>\n",
              "    </tr>\n",
              "  </tbody>\n",
              "</table>\n",
              "</div>"
            ],
            "text/plain": [
              "      age     sex   bmi  children smoker     region  expenses\n",
              "1333   50    male  31.0         3     no  northwest  10600.55\n",
              "1334   18  female  31.9         0     no  northeast   2205.98\n",
              "1335   18  female  36.9         0     no  southeast   1629.83\n",
              "1336   21  female  25.8         0     no  southwest   2007.95\n",
              "1337   61  female  29.1         0    yes  northwest  29141.36"
            ]
          },
          "metadata": {
            "tags": []
          },
          "execution_count": 4
        }
      ]
    },
    {
      "cell_type": "code",
      "metadata": {
        "id": "LcopvQh3X-kX"
      },
      "source": [
        "df=dataset\r\n",
        "#convert catagorical data to numeric data. \r\n",
        "df_catagorical = df.select_dtypes(include=['object']).copy()\r\n",
        "\r\n",
        "vocab_dict = {\"sex\":{\"male\":0,\"female\":1},\"smoker\":{\"yes\":1,\"no\":0},\"region\":{\"northeast\":3,\"northwest\":2,\"southwest\":1,\"southeast\":0}}\r\n",
        "df_2 = df.copy().replace(vocab_dict)"
      ],
      "execution_count": null,
      "outputs": []
    },
    {
      "cell_type": "code",
      "metadata": {
        "colab": {
          "base_uri": "https://localhost:8080/",
          "height": 195
        },
        "id": "5PhvENYnWY62",
        "outputId": "5244af8e-44fe-4ff1-93af-f062304fe65b"
      },
      "source": [
        "#Standardize data used before training the model.\r\n",
        "scaler = MinMaxScaler().fit(df_2)\r\n",
        "df_3 = scaler.transform(df_2)\r\n",
        "#put scaled data into a dataframe\r\n",
        "df_3 = pd.DataFrame(data=df_3,columns=['age','sex','bmi','children','smoker','region','expenses'])\r\n",
        "df_3.head()"
      ],
      "execution_count": null,
      "outputs": [
        {
          "output_type": "execute_result",
          "data": {
            "text/html": [
              "<div>\n",
              "<style scoped>\n",
              "    .dataframe tbody tr th:only-of-type {\n",
              "        vertical-align: middle;\n",
              "    }\n",
              "\n",
              "    .dataframe tbody tr th {\n",
              "        vertical-align: top;\n",
              "    }\n",
              "\n",
              "    .dataframe thead th {\n",
              "        text-align: right;\n",
              "    }\n",
              "</style>\n",
              "<table border=\"1\" class=\"dataframe\">\n",
              "  <thead>\n",
              "    <tr style=\"text-align: right;\">\n",
              "      <th></th>\n",
              "      <th>age</th>\n",
              "      <th>sex</th>\n",
              "      <th>bmi</th>\n",
              "      <th>children</th>\n",
              "      <th>smoker</th>\n",
              "      <th>region</th>\n",
              "      <th>expenses</th>\n",
              "    </tr>\n",
              "  </thead>\n",
              "  <tbody>\n",
              "    <tr>\n",
              "      <th>0</th>\n",
              "      <td>0.021739</td>\n",
              "      <td>1.0</td>\n",
              "      <td>0.320755</td>\n",
              "      <td>0.0</td>\n",
              "      <td>1.0</td>\n",
              "      <td>0.333333</td>\n",
              "      <td>0.251611</td>\n",
              "    </tr>\n",
              "    <tr>\n",
              "      <th>1</th>\n",
              "      <td>0.000000</td>\n",
              "      <td>0.0</td>\n",
              "      <td>0.479784</td>\n",
              "      <td>0.2</td>\n",
              "      <td>0.0</td>\n",
              "      <td>0.000000</td>\n",
              "      <td>0.009636</td>\n",
              "    </tr>\n",
              "    <tr>\n",
              "      <th>2</th>\n",
              "      <td>0.217391</td>\n",
              "      <td>0.0</td>\n",
              "      <td>0.458221</td>\n",
              "      <td>0.6</td>\n",
              "      <td>0.0</td>\n",
              "      <td>0.000000</td>\n",
              "      <td>0.053115</td>\n",
              "    </tr>\n",
              "    <tr>\n",
              "      <th>3</th>\n",
              "      <td>0.326087</td>\n",
              "      <td>0.0</td>\n",
              "      <td>0.180593</td>\n",
              "      <td>0.0</td>\n",
              "      <td>0.0</td>\n",
              "      <td>0.666667</td>\n",
              "      <td>0.333010</td>\n",
              "    </tr>\n",
              "    <tr>\n",
              "      <th>4</th>\n",
              "      <td>0.304348</td>\n",
              "      <td>0.0</td>\n",
              "      <td>0.347709</td>\n",
              "      <td>0.0</td>\n",
              "      <td>0.0</td>\n",
              "      <td>0.666667</td>\n",
              "      <td>0.043816</td>\n",
              "    </tr>\n",
              "  </tbody>\n",
              "</table>\n",
              "</div>"
            ],
            "text/plain": [
              "        age  sex       bmi  children  smoker    region  expenses\n",
              "0  0.021739  1.0  0.320755       0.0     1.0  0.333333  0.251611\n",
              "1  0.000000  0.0  0.479784       0.2     0.0  0.000000  0.009636\n",
              "2  0.217391  0.0  0.458221       0.6     0.0  0.000000  0.053115\n",
              "3  0.326087  0.0  0.180593       0.0     0.0  0.666667  0.333010\n",
              "4  0.304348  0.0  0.347709       0.0     0.0  0.666667  0.043816"
            ]
          },
          "metadata": {
            "tags": []
          },
          "execution_count": 7
        }
      ]
    },
    {
      "cell_type": "code",
      "metadata": {
        "id": "fYh1qA4wxY4k"
      },
      "source": [
        "#Split data,labels into testing and training data,labels.\r\n",
        "features_train, features_test, target_train, target_test = train_test_split(\r\n",
        "df_3, df_3.pop('expenses'), test_size=0.20, random_state=0)"
      ],
      "execution_count": null,
      "outputs": []
    },
    {
      "cell_type": "code",
      "metadata": {
        "id": "wbM7_jDhxpOy"
      },
      "source": [
        "#construct model\r\n",
        "model = keras.Sequential()\r\n",
        "\r\n",
        "model.add(layers.Dense(units=32,input_shape=(features_train.shape[1],)))\r\n",
        "model.add(layers.Activation('relu'))\r\n",
        "model.add(layers.Dense(1))\r\n",
        "\r\n",
        "optimizer=tf.keras.optimizers.Adam(\r\n",
        "    learning_rate=0.001)\r\n",
        "\r\n",
        "model.compile(loss=\"mse\",optimizer=optimizer ,metrics=[\"mse\",\"mae\"])"
      ],
      "execution_count": null,
      "outputs": []
    },
    {
      "cell_type": "code",
      "metadata": {
        "colab": {
          "base_uri": "https://localhost:8080/"
        },
        "id": "mLLHwBoCx3xi",
        "outputId": "c823c924-ea67-445f-9cce-b7928868d55e"
      },
      "source": [
        "#the model is now trained on training data and tested against test data. \r\n",
        "history = model.fit(features_train, target_train,epochs=10,verbose=2,batch_size=200,validation_data=(features_test, target_test))"
      ],
      "execution_count": null,
      "outputs": [
        {
          "output_type": "stream",
          "text": [
            "Epoch 1/10\n",
            "6/6 - 0s - loss: 0.0104 - mse: 0.0104 - mae: 0.0728 - val_loss: 0.0092 - val_mse: 0.0092 - val_mae: 0.0687\n",
            "Epoch 2/10\n",
            "6/6 - 0s - loss: 0.0100 - mse: 0.0100 - mae: 0.0706 - val_loss: 0.0088 - val_mse: 0.0088 - val_mae: 0.0662\n",
            "Epoch 3/10\n",
            "6/6 - 0s - loss: 0.0097 - mse: 0.0097 - mae: 0.0672 - val_loss: 0.0086 - val_mse: 0.0086 - val_mae: 0.0636\n",
            "Epoch 4/10\n",
            "6/6 - 0s - loss: 0.0095 - mse: 0.0095 - mae: 0.0667 - val_loss: 0.0084 - val_mse: 0.0084 - val_mae: 0.0650\n",
            "Epoch 5/10\n",
            "6/6 - 0s - loss: 0.0093 - mse: 0.0093 - mae: 0.0668 - val_loss: 0.0083 - val_mse: 0.0083 - val_mae: 0.0632\n",
            "Epoch 6/10\n",
            "6/6 - 0s - loss: 0.0092 - mse: 0.0092 - mae: 0.0650 - val_loss: 0.0082 - val_mse: 0.0082 - val_mae: 0.0619\n",
            "Epoch 7/10\n",
            "6/6 - 0s - loss: 0.0090 - mse: 0.0090 - mae: 0.0635 - val_loss: 0.0081 - val_mse: 0.0081 - val_mae: 0.0605\n",
            "Epoch 8/10\n",
            "6/6 - 0s - loss: 0.0090 - mse: 0.0090 - mae: 0.0621 - val_loss: 0.0080 - val_mse: 0.0080 - val_mae: 0.0598\n",
            "Epoch 9/10\n",
            "6/6 - 0s - loss: 0.0089 - mse: 0.0089 - mae: 0.0619 - val_loss: 0.0079 - val_mse: 0.0079 - val_mae: 0.0601\n",
            "Epoch 10/10\n",
            "6/6 - 0s - loss: 0.0088 - mse: 0.0088 - mae: 0.0623 - val_loss: 0.0078 - val_mse: 0.0078 - val_mae: 0.0604\n"
          ],
          "name": "stdout"
        }
      ]
    },
    {
      "cell_type": "code",
      "metadata": {
        "id": "EwpPxjRQx-ch"
      },
      "source": [
        "#set varible names for test\r\n",
        "test_dataset = features_test\r\n",
        "test_labels = target_test"
      ],
      "execution_count": null,
      "outputs": []
    },
    {
      "cell_type": "code",
      "metadata": {
        "id": "Xe7RXH3N3CWU",
        "colab": {
          "base_uri": "https://localhost:8080/",
          "height": 334
        },
        "outputId": "7c2541ec-4e64-4537-c61f-98363c154c10"
      },
      "source": [
        "# RUN THIS CELL TO TEST YOUR MODEL. DO NOT MODIFY CONTENTS.\n",
        "# Test model by checking how well the model generalizes using the test set.\n",
        "loss, mae, mse = model.evaluate(test_dataset, test_labels, verbose=2)\n",
        "\n",
        "print(\"Testing set Mean Abs Error: {:5.2f} expenses\".format(mae))\n",
        "\n",
        "if mae < 3500:\n",
        "  print(\"You passed the challenge. Great job!\")\n",
        "else:\n",
        "  print(\"The Mean Abs Error must be less than 3500. Keep trying.\")\n",
        "\n",
        "# Plot predictions.\n",
        "test_predictions = model.predict(test_dataset).flatten()\n",
        "\n",
        "a = plt.axes(aspect='equal')\n",
        "plt.scatter(test_labels, test_predictions)\n",
        "plt.xlabel('True values (expenses)')\n",
        "plt.ylabel('Predictions (expenses)')\n",
        "lims = [0, 50000]\n",
        "plt.xlim(lims)\n",
        "plt.ylim(lims)\n",
        "_ = plt.plot(lims,lims)\n"
      ],
      "execution_count": null,
      "outputs": [
        {
          "output_type": "stream",
          "text": [
            "9/9 - 0s - loss: 0.0078 - mse: 0.0078 - mae: 0.0604\n",
            "Testing set Mean Abs Error:  0.01 expenses\n",
            "You passed the challenge. Great job!\n"
          ],
          "name": "stdout"
        },
        {
          "output_type": "display_data",
          "data": {
            "image/png": "[encoded data removed]",
            "text/plain": [
              "<Figure size 432x288 with 1 Axes>"
            ]
          },
          "metadata": {
            "tags": [],
            "needs_background": "light"
          }
        }
      ]
    }
  ]
}